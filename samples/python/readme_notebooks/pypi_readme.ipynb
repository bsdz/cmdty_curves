{
 "cells": [
  {
   "cell_type": "markdown",
   "source": [
    "### Bootstrapper"
   ],
   "metadata": {
    "collapsed": false
   }
  },
  {
   "cell_type": "code",
   "execution_count": 1,
   "outputs": [
    {
     "name": "stdout",
     "output_type": "stream",
     "text": [
      "2019-01    18.950000\n",
      "2019-02    19.102542\n",
      "2019-03    19.102542\n",
      "Freq: M, dtype: float64\n",
      "\n",
      "Period('2019-01', 'M'), Period('2019-01', 'M'), 18.950\n",
      "Period('2019-02', 'M'), Period('2019-03', 'M'), 19.103\n"
     ]
    }
   ],
   "source": [
    "from curves import bootstrap_contracts\n",
    "from datetime import date\n",
    "\n",
    "q1_price = 19.05\n",
    "contracts = [\n",
    "    (date(2019, 1, 1), 18.95), # Jan-19\n",
    "    (date(2019, 1, 1), date(2019, 3, 1), 19.05) # Q1-19\n",
    "]\n",
    "piecewise_curve, bootstrapped_contracts = bootstrap_contracts(contracts, freq='M')\n",
    "print(piecewise_curve)\n",
    "print()\n",
    "for bc in bootstrapped_contracts:\n",
    "    print(\"{0}, {1}, {2:.3f}\".format(repr(bc.start), repr(bc.end), bc.price))\n"
   ],
   "metadata": {
    "collapsed": false
   }
  },
  {
   "cell_type": "markdown",
   "source": [
    "### Spline Interpolation"
   ],
   "metadata": {
    "collapsed": false
   }
  },
  {
   "cell_type": "code",
   "execution_count": 2,
   "outputs": [
    {
     "name": "stdout",
     "output_type": "stream",
     "text": [
      "2019-05-31    34.875000\n",
      "2019-06-01    33.404383\n",
      "2019-06-02    32.335617\n",
      "2019-06-03    31.800171\n",
      "2019-06-04    31.676636\n",
      "                ...    \n",
      "2021-09-26    26.201156\n",
      "2021-09-27    26.126006\n",
      "2021-09-28    26.050856\n",
      "2021-09-29    25.975706\n",
      "2021-09-30    25.900556\n",
      "Freq: D, Length: 854, dtype: float64\n"
     ]
    }
   ],
   "source": [
    "from curves import max_smooth_interp\n",
    "from curves import contract_period as cp\n",
    "import pandas as pd\n",
    "\n",
    "contracts = [\n",
    "    (date(2019, 5, 31), 34.875),\n",
    "    (date(2019, 6, 1), date(2019, 6, 2), 32.87),\n",
    "    ((date(2019, 6, 3), date(2019, 6, 9)), 32.14),\n",
    "    (pd.Period(year=2019, month=6, freq='M'), 31.08),\n",
    "    (cp.month(2019, 7), 29.95),\n",
    "    (cp.q_3(2019), 30.18),\n",
    "    (cp.q_4(2019), 37.64),\n",
    "    (cp.winter(2019), 38.05),\n",
    "    (cp.summer(2020), 32.39),\n",
    "    (cp.winter(2020), 37.84),\n",
    "    (cp.gas_year(2020), 35.12)\n",
    "]\n",
    "\n",
    "pc_for_spline, bc_for_spline = bootstrap_contracts(contracts, freq='D')\n",
    "smooth_curve = max_smooth_interp(bc_for_spline, freq='D')\n",
    "\n",
    "print(smooth_curve)"
   ],
   "metadata": {
    "collapsed": false
   }
  }
 ],
 "metadata": {
  "kernelspec": {
   "display_name": "Python 3",
   "language": "python",
   "name": "python3"
  },
  "language_info": {
   "codemirror_mode": {
    "name": "ipython",
    "version": 2
   },
   "file_extension": ".py",
   "mimetype": "text/x-python",
   "name": "python",
   "nbconvert_exporter": "python",
   "pygments_lexer": "ipython2",
   "version": "2.7.6"
  }
 },
 "nbformat": 4,
 "nbformat_minor": 0
}
