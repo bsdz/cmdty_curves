{
 "cells": [
  {
   "cell_type": "code",
   "execution_count": 47,
   "id": "9b1274ca",
   "metadata": {},
   "outputs": [],
   "source": [
    "import numpy as np\n",
    "from scipy.linalg import null_space"
   ]
  },
  {
   "cell_type": "code",
   "execution_count": 7,
   "id": "938e59b9",
   "metadata": {},
   "outputs": [],
   "source": [
    "def create_bootstrap_matrix(n, contract_ranges):\n",
    "    m = len(contract_ranges)\n",
    "    A = np.zeros((m, n))\n",
    "    for i, contract in enumerate(contract_ranges):\n",
    "        start_col, end_col = contract\n",
    "        num_cols = end_col - start_col\n",
    "        weight = 1.0/num_cols\n",
    "        for j in range(start_col, end_col):\n",
    "            A[i, j] = weight\n",
    "    return A"
   ]
  },
  {
   "cell_type": "code",
   "execution_count": 31,
   "id": "f0d5e332",
   "metadata": {},
   "outputs": [
    {
     "name": "stdout",
     "output_type": "stream",
     "text": [
      "A\n",
      "[[0.33333333 0.33333333 0.33333333 0.         0.         0.        ]\n",
      " [0.         0.         0.         0.5        0.5        0.        ]\n",
      " [0.         0.         0.         0.         0.5        0.5       ]]\n",
      "prices\n",
      "[10. 10. 10.]\n",
      "pseudo-inverse\n",
      "[[ 1.00000000e+00 -3.13011650e-17  2.40646826e-16]\n",
      " [ 1.00000000e+00  4.27581865e-17 -3.28729678e-16]\n",
      " [ 1.00000000e+00 -1.14570215e-17  8.80828517e-17]\n",
      " [ 0.00000000e+00  1.33333333e+00 -6.66666667e-01]\n",
      " [ 0.00000000e+00  6.66666667e-01  6.66666667e-01]\n",
      " [ 0.00000000e+00 -6.66666667e-01  1.33333333e+00]]\n",
      "bootstrapped\n",
      "[10.         10.         10.          6.66666667 13.33333333  6.66666667]\n"
     ]
    }
   ],
   "source": [
    "contracts = [\n",
    "    (0, 3),\n",
    "    (3, 5),\n",
    "    (4, 6)\n",
    "]\n",
    "n = 6\n",
    "A = create_bootstrap_matrix(n, contracts)\n",
    "print('A')\n",
    "print(A)\n",
    "prices = np.array((10.0, 10.0, 10.0))\n",
    "print('prices')\n",
    "print(prices)\n",
    "pinv = np.linalg.pinv(A)\n",
    "print('pseudo-inverse')\n",
    "print(pinv)\n",
    "bootstrapped_prices = np.matmul(pinv, prices)\n",
    "print('bootstrapped')\n",
    "print(bootstrapped_prices)"
   ]
  },
  {
   "cell_type": "code",
   "execution_count": 32,
   "id": "d6611831",
   "metadata": {},
   "outputs": [
    {
     "data": {
      "text/plain": [
       "(array([[ 0.        ,  1.        ,  0.        ],\n",
       "        [ 0.70710678,  0.        , -0.70710678],\n",
       "        [ 0.70710678,  0.        ,  0.70710678]]),\n",
       " array([0.8660254 , 0.57735027, 0.5       ]),\n",
       " array([[ 1.28197512e-16, -1.75121059e-16,  4.69235462e-17,\n",
       "          4.08248290e-01,  8.16496581e-01,  4.08248290e-01],\n",
       "        [ 5.77350269e-01,  5.77350269e-01,  5.77350269e-01,\n",
       "          0.00000000e+00,  0.00000000e+00,  0.00000000e+00],\n",
       "        [ 9.61481343e-17, -1.31340794e-16,  3.51926597e-17,\n",
       "         -7.07106781e-01,  2.77555756e-16,  7.07106781e-01],\n",
       "        [ 1.72546030e-01, -6.43950551e-01,  4.71404521e-01,\n",
       "          3.33333333e-01, -3.33333333e-01,  3.33333333e-01],\n",
       "        [ 6.43950551e-01, -4.71404521e-01, -1.72546030e-01,\n",
       "         -3.33333333e-01,  3.33333333e-01, -3.33333333e-01],\n",
       "        [ 4.71404521e-01,  1.72546030e-01, -6.43950551e-01,\n",
       "          3.33333333e-01, -3.33333333e-01,  3.33333333e-01]]))"
      ]
     },
     "execution_count": 32,
     "metadata": {},
     "output_type": "execute_result"
    }
   ],
   "source": [
    "svd = np.linalg.svd(A)\n",
    "svd"
   ]
  },
  {
   "cell_type": "code",
   "execution_count": 46,
   "id": "65565d83",
   "metadata": {},
   "outputs": [
    {
     "data": {
      "text/plain": [
       "array([[ 0.17254603,  0.64395055,  0.47140452],\n",
       "       [-0.64395055, -0.47140452,  0.17254603],\n",
       "       [ 0.47140452, -0.17254603, -0.64395055],\n",
       "       [ 0.33333333, -0.33333333,  0.33333333],\n",
       "       [-0.33333333,  0.33333333, -0.33333333],\n",
       "       [ 0.33333333, -0.33333333,  0.33333333]])"
      ]
     },
     "execution_count": 46,
     "metadata": {},
     "output_type": "execute_result"
    }
   ],
   "source": [
    "ns = linalg.null_space(A)\n",
    "ns"
   ]
  },
  {
   "cell_type": "code",
   "execution_count": 49,
   "id": "67c06279",
   "metadata": {},
   "outputs": [
    {
     "name": "stdout",
     "output_type": "stream",
     "text": [
      "target\n",
      "[10. 10. 10. 10. 10. 10.]\n",
      "error\n",
      "[-1.77635684e-15  3.55271368e-15  0.00000000e+00  3.33333333e+00\n",
      " -3.33333333e+00  3.33333333e+00]\n"
     ]
    }
   ],
   "source": [
    "target = np.array([10.0, 10.0, 10.0, 10.0, 10.0, 10.0])\n",
    "print('target')\n",
    "print(target)\n",
    "error = target - bootstrapped_prices\n",
    "print('error')\n",
    "print(error)\n"
   ]
  },
  {
   "cell_type": "code",
   "execution_count": 50,
   "id": "9daf7197",
   "metadata": {},
   "outputs": [
    {
     "name": "stdout",
     "output_type": "stream",
     "text": [
      "[ 3.33333333 -3.33333333  3.33333333]\n"
     ]
    }
   ],
   "source": [
    "c = np.matmul(ns.T, error)\n",
    "print(c)"
   ]
  },
  {
   "cell_type": "code",
   "execution_count": 52,
   "id": "797d9f70",
   "metadata": {},
   "outputs": [
    {
     "data": {
      "text/plain": [
       "array([10., 10., 10., 10., 10., 10.])"
      ]
     },
     "execution_count": 52,
     "metadata": {},
     "output_type": "execute_result"
    }
   ],
   "source": [
    "y = bootstrapped_prices + np.matmul(ns, c)\n",
    "y"
   ]
  }
 ],
 "metadata": {
  "kernelspec": {
   "display_name": "Python 3 (ipykernel)",
   "language": "python",
   "name": "python3"
  },
  "language_info": {
   "codemirror_mode": {
    "name": "ipython",
    "version": 3
   },
   "file_extension": ".py",
   "mimetype": "text/x-python",
   "name": "python",
   "nbconvert_exporter": "python",
   "pygments_lexer": "ipython3",
   "version": "3.9.12"
  }
 },
 "nbformat": 4,
 "nbformat_minor": 5
}
