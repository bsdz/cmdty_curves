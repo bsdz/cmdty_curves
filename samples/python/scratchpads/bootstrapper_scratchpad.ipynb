{
 "cells": [
  {
   "cell_type": "code",
   "execution_count": 47,
   "metadata": {},
   "outputs": [],
   "source": [
    "import numpy as np\n",
    "from scipy.linalg import null_space"
   ]
  },
  {
   "cell_type": "code",
   "execution_count": 7,
   "metadata": {},
   "outputs": [],
   "source": [
    "def create_bootstrap_matrix(n, contract_ranges):\n",
    "    m = len(contract_ranges)\n",
    "    A = np.zeros((m, n))\n",
    "    for i, contract in enumerate(contract_ranges):\n",
    "        start_col, end_col = contract\n",
    "        num_cols = end_col - start_col\n",
    "        weight = 1.0/num_cols\n",
    "        for j in range(start_col, end_col):\n",
    "            A[i, j] = weight\n",
    "    return A"
   ]
  },
  {
   "cell_type": "code",
   "execution_count": 31,
   "metadata": {},
   "outputs": [
    {
     "name": "stdout",
     "output_type": "stream",
     "text": [
      "A\n",
      "[[0.33333333 0.33333333 0.33333333 0.         0.         0.        ]\n",
      " [0.         0.         0.         0.5        0.5        0.        ]\n",
      " [0.         0.         0.         0.         0.5        0.5       ]]\n",
      "prices\n",
      "[10. 10. 10.]\n",
      "pseudo-inverse\n",
      "[[ 1.00000000e+00 -3.13011650e-17  2.40646826e-16]\n",
      " [ 1.00000000e+00  4.27581865e-17 -3.28729678e-16]\n",
      " [ 1.00000000e+00 -1.14570215e-17  8.80828517e-17]\n",
      " [ 0.00000000e+00  1.33333333e+00 -6.66666667e-01]\n",
      " [ 0.00000000e+00  6.66666667e-01  6.66666667e-01]\n",
      " [ 0.00000000e+00 -6.66666667e-01  1.33333333e+00]]\n",
      "bootstrapped\n",
      "[10.         10.         10.          6.66666667 13.33333333  6.66666667]\n"
     ]
    }
   ],
   "source": [
    "contracts = [\n",
    "    (0, 3),\n",
    "    (3, 5),\n",
    "    (4, 6)\n",
    "]\n",
    "n = 6\n",
    "A = create_bootstrap_matrix(n, contracts)\n",
    "print('A')\n",
    "print(A)\n",
    "prices = np.array((10.0, 10.0, 10.0))\n",
    "print('prices')\n",
    "print(prices)\n",
    "pinv = np.linalg.pinv(A)\n",
    "print('pseudo-inverse')\n",
    "print(pinv)\n",
    "bootstrapped_prices = np.matmul(pinv, prices)\n",
    "print('bootstrapped')\n",
    "print(bootstrapped_prices)"
   ]
  },
  {
   "cell_type": "code",
   "execution_count": 32,
   "metadata": {},
   "outputs": [
    {
     "data": {
      "text/plain": [
       "(array([[ 0.        ,  1.        ,  0.        ],\n",
       "        [ 0.70710678,  0.        , -0.70710678],\n",
       "        [ 0.70710678,  0.        ,  0.70710678]]),\n",
       " array([0.8660254 , 0.57735027, 0.5       ]),\n",
       " array([[ 1.28197512e-16, -1.75121059e-16,  4.69235462e-17,\n",
       "          4.08248290e-01,  8.16496581e-01,  4.08248290e-01],\n",
       "        [ 5.77350269e-01,  5.77350269e-01,  5.77350269e-01,\n",
       "          0.00000000e+00,  0.00000000e+00,  0.00000000e+00],\n",
       "        [ 9.61481343e-17, -1.31340794e-16,  3.51926597e-17,\n",
       "         -7.07106781e-01,  2.77555756e-16,  7.07106781e-01],\n",
       "        [ 1.72546030e-01, -6.43950551e-01,  4.71404521e-01,\n",
       "          3.33333333e-01, -3.33333333e-01,  3.33333333e-01],\n",
       "        [ 6.43950551e-01, -4.71404521e-01, -1.72546030e-01,\n",
       "         -3.33333333e-01,  3.33333333e-01, -3.33333333e-01],\n",
       "        [ 4.71404521e-01,  1.72546030e-01, -6.43950551e-01,\n",
       "          3.33333333e-01, -3.33333333e-01,  3.33333333e-01]]))"
      ]
     },
     "execution_count": 32,
     "metadata": {},
     "output_type": "execute_result"
    }
   ],
   "source": [
    "svd = np.linalg.svd(A)\n",
    "svd"
   ]
  },
  {
   "cell_type": "code",
   "execution_count": 46,
   "metadata": {},
   "outputs": [
    {
     "data": {
      "text/plain": [
       "array([[ 0.17254603,  0.64395055,  0.47140452],\n",
       "       [-0.64395055, -0.47140452,  0.17254603],\n",
       "       [ 0.47140452, -0.17254603, -0.64395055],\n",
       "       [ 0.33333333, -0.33333333,  0.33333333],\n",
       "       [-0.33333333,  0.33333333, -0.33333333],\n",
       "       [ 0.33333333, -0.33333333,  0.33333333]])"
      ]
     },
     "execution_count": 46,
     "metadata": {},
     "output_type": "execute_result"
    }
   ],
   "source": [
    "ns = linalg.null_space(A)\n",
    "ns"
   ]
  },
  {
   "cell_type": "code",
   "execution_count": 49,
   "metadata": {},
   "outputs": [
    {
     "name": "stdout",
     "output_type": "stream",
     "text": [
      "target\n",
      "[10. 10. 10. 10. 10. 10.]\n",
      "error\n",
      "[-1.77635684e-15  3.55271368e-15  0.00000000e+00  3.33333333e+00\n",
      " -3.33333333e+00  3.33333333e+00]\n"
     ]
    }
   ],
   "source": [
    "target = np.array([10.0, 10.0, 10.0, 10.0, 10.0, 10.0])\n",
    "print('target')\n",
    "print(target)\n",
    "error = target - bootstrapped_prices\n",
    "print('error')\n",
    "print(error)\n"
   ]
  },
  {
   "cell_type": "code",
   "execution_count": 50,
   "metadata": {},
   "outputs": [
    {
     "name": "stdout",
     "output_type": "stream",
     "text": [
      "[ 3.33333333 -3.33333333  3.33333333]\n"
     ]
    }
   ],
   "source": [
    "c = np.matmul(ns.T, error)\n",
    "print(c)"
   ]
  },
  {
   "cell_type": "code",
   "execution_count": 52,
   "metadata": {},
   "outputs": [
    {
     "data": {
      "text/plain": [
       "array([10., 10., 10., 10., 10., 10.])"
      ]
     },
     "execution_count": 52,
     "metadata": {},
     "output_type": "execute_result"
    }
   ],
   "source": [
    "y = bootstrapped_prices + np.matmul(ns, c)\n",
    "y"
   ]
  },
  {
   "cell_type": "markdown",
   "metadata": {},
   "source": [
    "https://github.com/cmdty/curves/issues/8"
   ]
  },
  {
   "cell_type": "code",
   "execution_count": 11,
   "metadata": {},
   "outputs": [
    {
     "name": "stdout",
     "output_type": "stream",
     "text": [
      "2020-04-25    20.820000\n",
      "2020-04-26    20.820000\n",
      "2020-04-27    16.094423\n",
      "2020-04-28    16.094423\n",
      "2020-04-29    16.094423\n",
      "2020-04-30    16.094423\n",
      "2020-05-01    20.470769\n",
      "2020-05-02    20.470769\n",
      "2020-05-03    20.470769\n",
      "2020-05-04    22.396346\n",
      "2020-05-05    22.396346\n",
      "Freq: D, dtype: float64\n"
     ]
    }
   ],
   "source": [
    "import datetime\n",
    "from curves import bootstrap_contracts\n",
    "contracts = [# Day contracts\n",
    " (datetime.date(2020, 4, 3), datetime.date(2020, 4, 3), 18.02),\n",
    " (datetime.date(2020, 4, 6), datetime.date(2020, 4, 6), 12.73),\n",
    " # Week contracts\n",
    " (datetime.date(2020, 4, 6), datetime.date(2020, 4, 12), 16.0),\n",
    " (datetime.date(2020, 4, 13), datetime.date(2020, 4, 19), 16.78),\n",
    " (datetime.date(2020, 4, 20), datetime.date(2020, 4, 26), 20.82),\n",
    " (datetime.date(2020, 4, 27), datetime.date(2020, 5, 3), 17.97), # This is what is causing issues\n",
    " # Month contracts\n",
    " (datetime.date(2020, 5, 1), datetime.date(2020, 5, 31), 22.21),\n",
    " (datetime.date(2020, 6, 1), datetime.date(2020, 6, 30), 27.3)]\n",
    "\n",
    "piecewise_curve, bootstrapped_contracts = bootstrap_contracts(contracts, freq='D')\n",
    "print(piecewise_curve['2020-04-25':'2020-05-05'])"
   ]
  },
  {
   "cell_type": "code",
   "execution_count": 12,
   "metadata": {},
   "outputs": [
    {
     "name": "stdout",
     "output_type": "stream",
     "text": [
      "[Contract(start=Period('2020-04-03', 'D'), end=Period('2020-04-03', 'D'), price=18.02), Contract(start=Period('2020-04-06', 'D'), end=Period('2020-04-06', 'D'), price=12.730000000000008), Contract(start=Period('2020-04-07', 'D'), end=Period('2020-04-12', 'D'), price=16.545), Contract(start=Period('2020-04-13', 'D'), end=Period('2020-04-19', 'D'), price=16.78), Contract(start=Period('2020-04-20', 'D'), end=Period('2020-04-26', 'D'), price=20.819999999999993), Contract(start=Period('2020-04-27', 'D'), end=Period('2020-04-30', 'D'), price=16.09442307692308), Contract(start=Period('2020-05-01', 'D'), end=Period('2020-05-03', 'D'), price=20.470769230769214), Contract(start=Period('2020-05-04', 'D'), end=Period('2020-05-31', 'D'), price=22.396346153846146), Contract(start=Period('2020-06-01', 'D'), end=Period('2020-06-30', 'D'), price=27.299999999999994)]\n"
     ]
    }
   ],
   "source": [
    "print(bootstrapped_contracts)"
   ]
  },
  {
   "cell_type": "markdown",
   "metadata": {},
   "source": [
    "---\n",
    "https://github.com/cmdty/curves/issues/12\n"
   ]
  },
  {
   "cell_type": "code",
   "execution_count": 14,
   "metadata": {},
   "outputs": [
    {
     "name": "stdout",
     "output_type": "stream",
     "text": [
      "2020-08-24    10.0\n",
      "2020-08-25    10.0\n",
      "2020-08-26    10.0\n",
      "2020-08-27    10.0\n",
      "2020-08-28    10.0\n",
      "2020-08-29    10.0\n",
      "2020-08-30    10.0\n",
      "2020-08-31    10.0\n",
      "2020-09-01    10.0\n",
      "2020-09-02    10.0\n",
      "2020-09-03    10.0\n",
      "2020-09-04    10.0\n",
      "2020-09-05    10.0\n",
      "2020-09-06    10.0\n",
      "2020-09-07    10.0\n",
      "2020-09-08    10.0\n",
      "2020-09-09    10.0\n",
      "2020-09-10    10.0\n",
      "2020-09-11    10.0\n",
      "2020-09-12    10.0\n",
      "2020-09-13    10.0\n",
      "2020-09-14    10.0\n",
      "2020-09-15    10.0\n",
      "2020-09-16    10.0\n",
      "2020-09-17    10.0\n",
      "2020-09-18    10.0\n",
      "2020-09-19    10.0\n",
      "2020-09-20    10.0\n",
      "2020-09-21    10.0\n",
      "2020-09-22    10.0\n",
      "2020-09-23    10.0\n",
      "2020-09-24    10.0\n",
      "2020-09-25    10.0\n",
      "2020-09-26    10.0\n",
      "2020-09-27    10.0\n",
      "2020-09-28    10.0\n",
      "2020-09-29    10.0\n",
      "2020-09-30    10.0\n",
      "Freq: D, dtype: float64\n"
     ]
    }
   ],
   "source": [
    "test_contracts = [(datetime.date(2020, 8, 24), datetime.date(2020, 8, 30), 10.0), \n",
    "(datetime.date(2020, 8, 31), datetime.date(2020, 9, 6), 10.0),\n",
    "(datetime.date(2020, 9, 1), datetime.date(2020, 9, 30), 10.0)]\n",
    "\n",
    "test_piecewise_curve, test_bootstrapped_contracts = bootstrap_contracts(test_contracts, freq='D')\n",
    "print(test_piecewise_curve)"
   ]
  }
 ],
 "metadata": {
  "kernelspec": {
   "display_name": "Python 3",
   "language": "python",
   "name": "python3"
  },
  "language_info": {
   "codemirror_mode": {
    "name": "ipython",
    "version": 3
   },
   "file_extension": ".py",
   "mimetype": "text/x-python",
   "name": "python",
   "nbconvert_exporter": "python",
   "pygments_lexer": "ipython3",
   "version": "3.7.1"
  }
 },
 "nbformat": 4,
 "nbformat_minor": 5
}
